{
  "cells": [
    {
      "cell_type": "markdown",
      "metadata": {
        "id": "view-in-github",
        "colab_type": "text"
      },
      "source": [
        "<a href=\"https://colab.research.google.com/github/SushmithaReddyChintalapani/sushmitha_INFO5502_Spring2022/blob/main/Copy_of_lab_assignment_09_Sushmitha_11554373(1).ipynb\" target=\"_parent\"><img src=\"https://colab.research.google.com/assets/colab-badge.svg\" alt=\"Open In Colab\"/></a>"
      ]
    },
    {
      "cell_type": "markdown",
      "metadata": {
        "id": "FexYmTTDn8Ff"
      },
      "source": [
        "## The ninth Lab-assignment (04/14/2022, 50 points in total)"
      ]
    },
    {
      "cell_type": "markdown",
      "metadata": {
        "id": "Re-jSrw-n8Fq"
      },
      "source": [
        "The purpose of this assignment is to practice different Hypothesis Testing."
      ]
    },
    {
      "cell_type": "markdown",
      "metadata": {
        "id": "RTKubyevn8Fs"
      },
      "source": [
        "### Question 1 (15 points) \n",
        "\n",
        "During the 1980s, the general consensus is that about 5% of the nation’s children had autism. Some claimed that increases certain chemicals in the environment has led to an increase in autism. \n",
        "\n",
        "(1) Write an appropriate hypothesis test for this situation (5 points).  \n",
        "\n",
        "(2) Give an appropriate test for this hypothesis, stating what are the necessary conditions for performing the test (5 points). \n",
        "\n",
        "(3) A recent study examined 384 children and found that 46 showed signs of autism. Perform a test of the hypothesis and state the p-value (5 points). "
      ]
    },
    {
      "cell_type": "code",
      "execution_count": null,
      "metadata": {
        "colab": {
          "base_uri": "https://localhost:8080/",
          "height": 54
        },
        "id": "fvmTwbT9n8Fv",
        "outputId": "8cd2a057-09f8-4b7a-cc15-34f7d11e6487"
      },
      "outputs": [
        {
          "output_type": "execute_result",
          "data": {
            "text/plain": [
              "'\\n\\nHere in this null hypothesis it defines that national children had autism of 5%\\n\\n(a)Ho:p=0.05\\n\\nHere in this H1 we can get about alternative hypothesis there are more that 5% of children who has autism\\n\\nH1:p>0.05\\n\\n\\n'"
            ],
            "application/vnd.google.colaboratory.intrinsic+json": {
              "type": "string"
            }
          },
          "metadata": {},
          "execution_count": 3
        }
      ],
      "source": [
        "# 1.)\n",
        "'''\n",
        "\n",
        "Here in this null hypothesis it defines that national children had autism of 5%\n",
        "\n",
        "(a)Ho:p=0.05\n",
        "\n",
        "Here in this H1 we can get about alternative hypothesis there are more that 5% of children who has autism\n",
        "\n",
        "H1:p>0.05\n",
        "\n",
        "\n",
        "'''"
      ]
    },
    {
      "cell_type": "code",
      "execution_count": null,
      "metadata": {
        "colab": {
          "base_uri": "https://localhost:8080/",
          "height": 54
        },
        "id": "lGu6S3MHn8Fz",
        "outputId": "53256837-a17e-4fc7-e3e1-6d247f07320c"
      },
      "outputs": [
        {
          "output_type": "execute_result",
          "data": {
            "text/plain": [
              "'\\n\\nHere we  can select the test depending on the number of samples we have.\\n\\nHere if we find that the sample size is less than 30 it means ( n < 30) then we do t-test.\\n\\nIf given sample is greater tahn 30 then we choose z- test.\\n\\n'"
            ],
            "application/vnd.google.colaboratory.intrinsic+json": {
              "type": "string"
            }
          },
          "metadata": {},
          "execution_count": 4
        }
      ],
      "source": [
        "# 2.)\n",
        "'''\n",
        "\n",
        "Here we  can select the test depending on the number of samples we have.\n",
        "\n",
        "Here if we find that the sample size is less than 30 it means ( n < 30) then we do t-test.\n",
        "\n",
        "If given sample is greater tahn 30 then we choose z- test.\n",
        "\n",
        "'''\n",
        "\n"
      ]
    },
    {
      "cell_type": "code",
      "source": [
        "\n",
        "# 3.)\n",
        "from statsmodels.stats.proportion import proportions_ztest\n",
        "\n",
        "p = 0.05\n",
        "H_population = 384\n",
        "C_sample = 46\n",
        "\n",
        "print(\"Z-test value is\", proportions_ztest(count = 5, nobs = H_population, value = 0.46)[0])\n",
        "print(\"p-value is\", proportions_ztest(count = 5, nobs = H_population, value = 0.46)[1])\n",
        "\n"
      ],
      "metadata": {
        "colab": {
          "base_uri": "https://localhost:8080/"
        },
        "id": "m15ywQjnu4xc",
        "outputId": "7299190f-98e4-4c8a-dfc8-52dd41130ead"
      },
      "execution_count": null,
      "outputs": [
        {
          "output_type": "stream",
          "name": "stdout",
          "text": [
            "Z-test value is -77.2644132497523\n",
            "p-value is 0.0\n"
          ]
        }
      ]
    },
    {
      "cell_type": "markdown",
      "source": [
        "We can see that the p value inoutput is 0.0\n",
        "where P value is less than 0.05 so the null hypothesis is rejected.\n",
        "here we can see that the % of children with autism is greater than 5%."
      ],
      "metadata": {
        "id": "BkZjh_uUw5I0"
      }
    },
    {
      "cell_type": "markdown",
      "metadata": {
        "id": "HVonIhVxn8F1"
      },
      "source": [
        "### Question 2 (15 points) \n",
        "\n",
        "National data in the 1960s showed that about 44% of the adult population had never smoked. \n",
        "\n",
        "(1) State a null and alternative hypothesis to test that the fraction of the 1995 population of adults that had never smoked had increased (5 points).  \n",
        "\n",
        "(2) A national random sample of 891 adults were interviewed and 463 stated that they had never smoked. Perform a z-test of the hypothesis and give an approriate p-value (5 points). \n",
        "\n",
        "(3) Create a 98% confidence interval for the proportion of adults who had never been smokers (5 points). "
      ]
    },
    {
      "cell_type": "code",
      "execution_count": null,
      "metadata": {
        "colab": {
          "base_uri": "https://localhost:8080/",
          "height": 72
        },
        "id": "Inxute9cn8F3",
        "outputId": "0da9aa89-023c-4237-a423-37defab3698a"
      },
      "outputs": [
        {
          "output_type": "execute_result",
          "data": {
            "text/plain": [
              "'\\n\\n1.) Ans:\\\\ Here in this Null Hypothesis:\\nwe can get the fraction of audults population which can be greater than 44%.\\n\\n\\\\ Ho it defines that how much % of adults in 1995 population that had never smoked is > 44% . \\n\\nwhere in this alternate hypothesis it Describes that the adults population is less than or equal to 44%.\\n\\n H1 : % of adults in 1995 population that had never smoked is <= 44 %\\n\\n '"
            ],
            "application/vnd.google.colaboratory.intrinsic+json": {
              "type": "string"
            }
          },
          "metadata": {},
          "execution_count": 10
        }
      ],
      "source": [
        "\n",
        "# You answer here\n",
        "'''\n",
        "\n",
        "1.) Ans:\\ Here in this Null Hypothesis:\n",
        "we can get the fraction of audults population which can be greater than 44%.\n",
        "\n",
        "\\ Ho it defines that how much % of adults in 1995 population that had never smoked is > 44% . \n",
        "\n",
        "where in this alternate hypothesis it Describes that the adults population is less than or equal to 44%.\n",
        "\n",
        " H1 : % of adults in 1995 population that had never smoked is <= 44 %\n",
        "\n",
        " '''"
      ]
    },
    {
      "cell_type": "code",
      "execution_count": null,
      "metadata": {
        "colab": {
          "base_uri": "https://localhost:8080/"
        },
        "id": "fwZJGQbQn8F5",
        "outputId": "9c7eb2f7-eadc-4fec-8610-a45bb58712d5"
      },
      "outputs": [
        {
          "output_type": "stream",
          "name": "stdout",
          "text": [
            "Z-stat value is -631.062712892761\n",
            "p-value is 0.0\n"
          ]
        }
      ],
      "source": [
        "# your code here\n",
        "# 2.)\n",
        "\n",
        "from statsmodels.stats.proportion import proportions_ztest\n",
        "\n",
        "p = 0.05\n",
        "H_population = 891\n",
        "C_sample = 463\n",
        "\n",
        "print(\"Z-state value is\", proportions_ztest(count = 44, nobs = H_population, value = 4.63)[0])\n",
        "print(\"p-value is\", proportions_ztest(count = 5, nobs = H_population, value = 4.63)[1])"
      ]
    },
    {
      "cell_type": "code",
      "source": [
        "# your code here\n",
        "# 3.)\n",
        "import numpy as np\n",
        "import scipy.stats as st\n",
        "\n",
        "H_population = 891\n",
        "\n",
        "#  95% confidence interval can be created\n",
        "print(\" The adult population that has never smoked has a 98 percent confidence interval.\\n\", st.t.interval(alpha=0.98,\n",
        "              df = H_population-1,\n",
        "              loc = 44, \n",
        "              scale = 4.63))"
      ],
      "metadata": {
        "colab": {
          "base_uri": "https://localhost:8080/"
        },
        "id": "zkX17w0gzhFe",
        "outputId": "cbc486a1-f59f-47d6-9d14-04d6487cb93a"
      },
      "execution_count": null,
      "outputs": [
        {
          "output_type": "stream",
          "name": "stdout",
          "text": [
            " The adult population that has never smoked has a 98 percent confidence interval.\n",
            " (33.2095762998281, 54.7904237001719)\n"
          ]
        }
      ]
    },
    {
      "cell_type": "markdown",
      "metadata": {
        "id": "C4W5aI08n8F8"
      },
      "source": [
        "### Question 3 (15 points) \n",
        "In this problem,we will examine the sugar content of several national brands of cereals, here measured as a percentage of weight.\n",
        "\n",
        "\n",
        "(1) Give a summary of these two datasets (5 points). \n",
        "\n",
        "(2) Create side-by-side boxplots and interpret what you see (5 points). \n",
        "\n",
        "(3) Use python to create a 95% confidence interval for the difference in mean sugar content and explain your result (5 points). "
      ]
    },
    {
      "cell_type": "code",
      "execution_count": null,
      "metadata": {
        "colab": {
          "base_uri": "https://localhost:8080/"
        },
        "id": "JPr9jLtGn8F_",
        "outputId": "d98c6962-6522-4e10-a5e7-9c3a6ba271a9"
      },
      "outputs": [
        {
          "output_type": "stream",
          "name": "stdout",
          "text": [
            "The mean value sugar percentage in children's cereal brands 46.800000000000004\n",
            "Standard deviation of sugar % in children's cereal brands 6.24718884147523\n",
            "\n",
            "Mean value of sugar % in adults cereal brands 10.153571428571427\n",
            "Standard deviation of sugar % in adults cereal brands 7.475220118252474\n"
          ]
        }
      ],
      "source": [
        "# You answer here\n",
        "# 1.)\n",
        "import numpy as np\n",
        "\n",
        "# sample data\n",
        "children = [40.3, 55.0, 45.7, 43.3, 50.3, 45.9, 53.5, 43.0, 44.2, 44.0, 33.6, 55.1, 48.8,\n",
        "            50.4, 37.8, 60.3, 46.6, 47.4, 44.0]\n",
        "\n",
        "adult = [20.0, 30.2, 2.2, 7.5, 4.4, 22.2, 16.6, 14.5, 21.4, 3.3, 10.0, 1.0, 4.4, 1.3, 8.1, 6.6, 7.8, 10.6, 16.2, 14.5,\n",
        "        4.1, 15.8, 4.1, 2.4, 3.5, 8.5, 4.7, 18.4]\n",
        "\n",
        "print(\"The mean value sugar percentage in children's cereal brands\", np.mean(children))\n",
        "print(\"Standard deviation of sugar % in children's cereal brands\", np.std(children))\n",
        "print()\n",
        "print(\"Mean value of sugar % in adults cereal brands\", np.mean(adult))\n",
        "print(\"Standard deviation of sugar % in adults cereal brands\", np.std(adult))\n",
        "\n",
        "\n"
      ]
    },
    {
      "cell_type": "code",
      "execution_count": null,
      "metadata": {
        "colab": {
          "base_uri": "https://localhost:8080/",
          "height": 265
        },
        "id": "iPlUyly6n8GA",
        "outputId": "8865e365-0c72-40d6-a734-c469ee881410"
      },
      "outputs": [
        {
          "output_type": "display_data",
          "data": {
            "text/plain": [
              "<Figure size 432x288 with 2 Axes>"
            ],
            "image/png": "[encoded data removed]"
          },
          "metadata": {
            "needs_background": "light"
          }
        }
      ],
      "source": [
        "# your code here\n",
        "# 2.)\n",
        "\n",
        "import matplotlib.pyplot as plt\n",
        "import numpy as np\n",
        " \n",
        "children = [40.3, 55.0, 45.7, 43.3, 50.3, 45.9, 53.5, 43.0, 44.2, 44.0, 33.6, 55.1, 48.8,\n",
        "            50.4, 37.8, 60.3, 46.6, 47.4, 44.0]\n",
        "\n",
        "adult = [20.0, 30.2, 2.2, 7.5, 4.4, 22.2, 16.6, 14.5, 21.4, 3.3, 10.0, 1.0, 4.4, 1.3, 8.1, 6.6, 7.8, 10.6, 16.2, 14.5,\n",
        "        4.1, 15.8, 4.1, 2.4, 3.5, 8.5, 4.7, 18.4]\n",
        "\n",
        "plt.subplot(1, 2, 1)\n",
        "# Creating box plot\n",
        "plt.boxplot(adult)\n",
        "\n",
        "\n",
        "plt.subplot(1, 2, 2)\n",
        "# Creating box plot\n",
        "plt.boxplot(children)\n",
        " \n",
        "# show plot\n",
        "plt.show()\n"
      ]
    },
    {
      "cell_type": "markdown",
      "source": [
        "Summary : There are no outliers in the adult cereal brand sugar percent.\n",
        "There is an anomaly in the sugar percentage of children's cereal brands. The ranges of the two lists of values differ."
      ],
      "metadata": {
        "id": "lF8lcGK3180j"
      }
    },
    {
      "cell_type": "code",
      "source": [
        "# 3)You answer here\n",
        "import numpy as np\n",
        "import scipy.stats as st\n",
        "\n",
        "# given sample data of childrens and adult\n",
        "children = [40.3, 55.0, 45.7, 43.3, 50.3, 45.9, 53.5, 43.0, 44.2, 44.0, 33.6, 55.1, 48.8,\n",
        "            50.4, 37.8, 60.3, 46.6, 47.4, 44.0]\n",
        "\n",
        "adult = [20.0, 30.2, 2.2, 7.5, 4.4, 22.2, 16.6, 14.5, 21.4, 3.3, 10.0, 1.0, 4.4, 1.3, 8.1, 6.6, 7.8, 10.6, 16.2, 14.5,\n",
        "        4.1, 15.8, 4.1, 2.4, 3.5, 8.5, 4.7, 18.4]\n",
        "\n",
        "  \n",
        "# Make a confidence interval of 95% for the difference in mean sugar content.\n",
        "print(\"The 95 percent confidence intervals for cereal sugar content for children are \", st.t.interval(alpha=0.95,\n",
        "              df=len(children)-1,\n",
        "              loc=np.mean(children), \n",
        "              scale=st.sem(children)))\n",
        "\n",
        "print(\"The 95 percent confidence intervals for cereal sugar content for children are \",st.t.interval(alpha=0.95,\n",
        "              df=len(adult)-1,\n",
        "              loc=np.mean(adult), \n",
        "              scale=st.sem(adult)))"
      ],
      "metadata": {
        "colab": {
          "base_uri": "https://localhost:8080/"
        },
        "id": "-XvjLXej2KyU",
        "outputId": "d2f1853b-3d5e-4d20-f7cf-53bc05e3ccf0"
      },
      "execution_count": null,
      "outputs": [
        {
          "output_type": "stream",
          "name": "stdout",
          "text": [
            "The 95 percent confidence intervals for cereal sugar content for children are  (43.706441602172454, 49.893558397827555)\n",
            "The 95 percent confidence intervals for cereal sugar content for children are  (7.201794131005471, 13.105348726137382)\n"
          ]
        }
      ]
    },
    {
      "cell_type": "markdown",
      "metadata": {
        "id": "G17dqdSMn8GC"
      },
      "source": [
        "### Question 4 (15 points, with 10 extra point included) A/B Testing"
      ]
    },
    {
      "cell_type": "markdown",
      "metadata": {
        "id": "w_wd7NXHn8GD"
      },
      "source": [
        "Punishment for crime has many [philosophical justifications](http://plato.stanford.edu/entries/punishment/#ThePun).  An important one is that fear of punishment may *deter* people from committing crimes.\n",
        "\n",
        "In the United States, some jurisdictions execute people who are convicted of particularly serious crimes, such as murder.  This punishment is called the *death penalty* or *capital punishment*.  The death penalty is controversial, and deterrence has been one focal point of the debate.  There are other reasons to support or oppose the death penalty, but in this project we'll focus on deterrence.\n",
        "\n",
        "The key question about deterrence is:\n",
        "\n",
        "> Through our exploration, does instituting a death penalty for murder actually reduce the number of murders?\n",
        "\n",
        "You might have a strong intuition in one direction, but the evidence turns out to be surprisingly complex.  Different sides have variously argued that the death penalty has no deterrent effect and that each execution prevents 8 murders, all using statistical arguments!  We'll try to come to our own conclusion.\n",
        "\n",
        "#### The data\n",
        "\n",
        "The main data source for this lab comes from a [paper](http://cjlf.org/deathpenalty/DezRubShepDeterFinal.pdf) by three researchers, Dezhbakhsh, Rubin, and Shepherd.  The dataset contains rates of various violent crimes for every year 1960-2003 (44 years) in every US state.  The researchers compiled the data from the FBI's Uniform Crime Reports.\n",
        "\n",
        "Since crimes are committed by people, not states, we need to account for the number of people in each state when we're looking at state-level data.  Murder rates are calculated as follows:\n",
        "\n",
        "$$\\text{murder rate for state X in year Y} = \\frac{\\text{number of murders in state X in year Y}}{\\text{population in state X in year Y}}*100000$$\n",
        "\n",
        "(Murder is rare, so we multiply by 100,000 just to avoid dealing with tiny numbers.)\n",
        "\n",
        "Murder rates vary over time, and different states exhibit different trends. The rates in some states change dramatically from year to year, while others are quite stable. Let's plot a couple, just to see the variety.\n",
        "\n",
        "*Hint*: To create two lines, you will need create the table `ak_mn` with two columns of murder rates, in addition to a column of years. This table will have the following structure:\n",
        "\n",
        "| Year | Murder rate in Alaska | Murder rate in Minnesota |\n",
        "|------|-----------------------|--------------------------|\n",
        "| 1960 | 10.2                  | 1.2                      |\n",
        "| 1961 | 11.5                  | 1                        |\n",
        "| 1962 | 4.5                   | 0.9                      |\n",
        "\n",
        "<center>... (41 rows omitted)</center>\n",
        "\n",
        "Some US states have the death penalty, and others don't, and laws have changed over time. In addition to changes in murder rates, we will also consider whether the death penalty was in force in each state and each year.\n",
        "\n",
        "Using this information, we would like to investigate how the presence of the death penalty affects the murder rate of a state."
      ]
    },
    {
      "cell_type": "markdown",
      "metadata": {
        "id": "avquwU-Sn8GG"
      },
      "source": [
        "(1) Use preban_rates_copy and postban_rates to create a table change_in_death_rates that contains each state's population, murder rate, and whether or not that state had the death penalty for both 1971 and 1973. (5 points)\n",
        "\n",
        "Create a table rate_means that contains the average murder rates for the states that had the death penalty and the states that didn't have the death penalty. It should have two columns: one indicating if the penalty was in place, and one that contains the average murder rate for each group.\n",
        "\n",
        "Hint: tbl_1.append(tbl_2) with create a new table that includes rows from both tbl_1 and tbl_2. Both tables must have the exactly the same columns, in the same order.\n",
        "\n",
        "(2) We want to figure out if there is a difference between the distribution of death rates in 1971 and 1973. Specifically, we want to test if murder rates were higher in 1973 than they were in 1971. You are required to conduct A/B Testing below (10 points):\n",
        "\n",
        "(2-1) Set observed_difference to the observed test statistic using the rate_means table. \n",
        "\n",
        "\n",
        "(2-2) Given a table like change_in_death_rates, a value column label, and a group column group_label, write a function that calculates the appropriate test statistic.\n",
        "\n",
        "(2-3) Write a function simulate_and_test_statistic to compute one trial of our A/B test. Your function should run a simulation and return a test statistic.\n",
        "\n",
        "(2-4) Simulate 5000 trials of our A/B test and store the test statistics in an array called differences.\n",
        "\n",
        "(2-5) Find the p-value for your test and assign it to empirical_P.\n",
        "\n",
        "(2-6) Using a 5% P-value cutoff, draw a conclusion about the null and alternative hypotheses. Describe your findings using simple, non-technical language. What does your analysis tell you about murder rates after the death penalty was suspended? What can you claim about causation from your statistical analysis?\n"
      ]
    },
    {
      "cell_type": "code",
      "source": [
        "import numpy as np\n",
        "from datascience import *\n",
        "import matplotlib"
      ],
      "metadata": {
        "id": "ihfBizxHIilE"
      },
      "execution_count": 12,
      "outputs": []
    },
    {
      "cell_type": "code",
      "source": [
        "# %matplotlib inline\n",
        "import matplotlib.pyplot as plt"
      ],
      "metadata": {
        "id": "oLM4yL5_IpDN"
      },
      "execution_count": 13,
      "outputs": []
    },
    {
      "cell_type": "code",
      "source": [
        "#defining the population, year, murder rate in alaska\n",
        "order = make_array(6, 1, 5, 2, 4, 3)\n",
        "murder = Table.read_table('/content/crime_rates (1).csv').select('State','Population','Year','Murder Rate')\n",
        "murder.set_format(\"Population\", NumberFormatter)"
      ],
      "metadata": {
        "id": "PMIu2DUDH500",
        "outputId": "d9f51e3a-eb8c-4f15-df9e-d8261e2673e8",
        "colab": {
          "base_uri": "https://localhost:8080/",
          "height": 392
        }
      },
      "execution_count": 81,
      "outputs": [
        {
          "output_type": "execute_result",
          "data": {
            "text/plain": [
              "State  | Population | Year | Murder Rate\n",
              "Alaska | 226,167    | 1960 | 10.2\n",
              "Alaska | 234,000    | 1961 | 11.5\n",
              "Alaska | 246,000    | 1962 | 4.5\n",
              "Alaska | 248,000    | 1963 | 6.5\n",
              "Alaska | 250,000    | 1964 | 10.4\n",
              "Alaska | 253,000    | 1965 | 6.3\n",
              "Alaska | 272,000    | 1966 | 12.9\n",
              "Alaska | 272,000    | 1967 | 9.6\n",
              "Alaska | 277,000    | 1968 | 10.5\n",
              "Alaska | 282,000    | 1969 | 10.6\n",
              "... (2190 rows omitted)"
            ],
            "text/html": [
              "<table border=\"1\" class=\"dataframe\">\n",
              "    <thead>\n",
              "        <tr>\n",
              "            <th>State</th> <th>Population</th> <th>Year</th> <th>Murder Rate</th>\n",
              "        </tr>\n",
              "    </thead>\n",
              "    <tbody>\n",
              "        <tr>\n",
              "            <td>Alaska</td> <td>226,167   </td> <td>1960</td> <td>10.2       </td>\n",
              "        </tr>\n",
              "        <tr>\n",
              "            <td>Alaska</td> <td>234,000   </td> <td>1961</td> <td>11.5       </td>\n",
              "        </tr>\n",
              "        <tr>\n",
              "            <td>Alaska</td> <td>246,000   </td> <td>1962</td> <td>4.5        </td>\n",
              "        </tr>\n",
              "        <tr>\n",
              "            <td>Alaska</td> <td>248,000   </td> <td>1963</td> <td>6.5        </td>\n",
              "        </tr>\n",
              "        <tr>\n",
              "            <td>Alaska</td> <td>250,000   </td> <td>1964</td> <td>10.4       </td>\n",
              "        </tr>\n",
              "        <tr>\n",
              "            <td>Alaska</td> <td>253,000   </td> <td>1965</td> <td>6.3        </td>\n",
              "        </tr>\n",
              "        <tr>\n",
              "            <td>Alaska</td> <td>272,000   </td> <td>1966</td> <td>12.9       </td>\n",
              "        </tr>\n",
              "        <tr>\n",
              "            <td>Alaska</td> <td>272,000   </td> <td>1967</td> <td>9.6        </td>\n",
              "        </tr>\n",
              "        <tr>\n",
              "            <td>Alaska</td> <td>277,000   </td> <td>1968</td> <td>10.5       </td>\n",
              "        </tr>\n",
              "        <tr>\n",
              "            <td>Alaska</td> <td>282,000   </td> <td>1969</td> <td>10.6       </td>\n",
              "        </tr>\n",
              "    </tbody>\n",
              "</table>\n",
              "<p>... (2190 rows omitted)</p>"
            ]
          },
          "metadata": {},
          "execution_count": 81
        }
      ]
    },
    {
      "cell_type": "code",
      "source": [
        "# You code here\n",
        "\n",
        "import pandas as pd\n",
        "\n",
        "# data set is loaded\n",
        "data = pd.read_csv(\"/content/crime_rates (1).csv\")\n",
        "\n",
        "# we have created the table for the below states\n",
        "dfd = data[(data['State'] == 'Alaska')][['Year','Murder Rate']]\n",
        "\n",
        "# we can get the data of these states from the CSV file\n",
        "d = {}\n",
        "for year in (list(set(list(data['Year'].values)))):\n",
        "    if data[(data['Year'] == year) & (data['State'] == 'Minnesota')].shape[0] > 0:\n",
        "        d[year] = data[(data['Year'] == year) & (data['State'] == 'Minnesota')]['Murder Rate'].values[0]\n",
        "    else:\n",
        "        d[year] = 0\n",
        "        \n",
        "len(d)\n",
        "\n",
        "dfd['Murder rate in Minnesota'] = d.values()\n",
        "\n",
        "dfd.columns = ['Year', 'Murder rate in Minnesota', 'Murder rate in Alaska']\n",
        "dfd"
      ],
      "metadata": {
        "id": "MsZ1I0HVT-1t",
        "outputId": "4bff97df-1ff9-40d1-bb31-749c098f2798",
        "colab": {
          "base_uri": "https://localhost:8080/",
          "height": 1000
        }
      },
      "execution_count": 84,
      "outputs": [
        {
          "output_type": "execute_result",
          "data": {
            "text/plain": [
              "    Year  Murder rate in Minnesota  Murder rate in Alaska\n",
              "0   1960                      10.2                    1.2\n",
              "1   1961                      11.5                    1.0\n",
              "2   1962                       4.5                    0.9\n",
              "3   1963                       6.5                    1.2\n",
              "4   1964                      10.4                    1.4\n",
              "5   1965                       6.3                    1.4\n",
              "6   1966                      12.9                    2.2\n",
              "7   1967                       9.6                    1.6\n",
              "8   1968                      10.5                    2.2\n",
              "9   1969                      10.6                    1.9\n",
              "10  1970                      12.2                    2.0\n",
              "11  1971                      13.4                    2.4\n",
              "12  1972                       9.5                    2.4\n",
              "13  1973                      10.0                    2.7\n",
              "14  1974                      13.6                    3.0\n",
              "15  1975                      12.2                    3.3\n",
              "16  1976                      11.3                    2.3\n",
              "17  1977                      10.8                    2.7\n",
              "18  1978                      12.9                    2.0\n",
              "19  1979                      13.3                    2.3\n",
              "20  1980                       8.9                    2.6\n",
              "21  1981                      14.6                    2.1\n",
              "22  1982                      18.5                    2.3\n",
              "23  1983                      13.8                    1.7\n",
              "24  1984                      11.6                    1.8\n",
              "25  1985                       9.8                    2.1\n",
              "26  1986                       8.6                    2.5\n",
              "27  1987                      10.1                    2.6\n",
              "28  1988                       5.7                    2.9\n",
              "29  1989                       8.0                    2.5\n",
              "30  1990                       7.5                    2.7\n",
              "31  1991                       7.4                    3.0\n",
              "32  1992                       7.5                    3.3\n",
              "33  1993                       9.0                    3.4\n",
              "34  1994                       6.3                    3.2\n",
              "35  1995                       9.1                    3.9\n",
              "36  1996                       7.4                    3.6\n",
              "37  1997                       8.9                    2.8\n",
              "38  1998                       6.7                    2.6\n",
              "39  1999                       8.4                    2.8\n",
              "40  2000                       4.3                    3.1\n",
              "41  2001                       6.1                    2.4\n",
              "42  2002                       5.1                    2.2\n",
              "43  2003                       6.0                    2.5"
            ],
            "text/html": [
              "\n",
              "  <div id=\"df-07411258-a63e-41cb-b6e2-6d9101bbf1ba\">\n",
              "    <div class=\"colab-df-container\">\n",
              "      <div>\n",
              "<style scoped>\n",
              "    .dataframe tbody tr th:only-of-type {\n",
              "        vertical-align: middle;\n",
              "    }\n",
              "\n",
              "    .dataframe tbody tr th {\n",
              "        vertical-align: top;\n",
              "    }\n",
              "\n",
              "    .dataframe thead th {\n",
              "        text-align: right;\n",
              "    }\n",
              "</style>\n",
              "<table border=\"1\" class=\"dataframe\">\n",
              "  <thead>\n",
              "    <tr style=\"text-align: right;\">\n",
              "      <th></th>\n",
              "      <th>Year</th>\n",
              "      <th>Murder rate in Minnesota</th>\n",
              "      <th>Murder rate in Alaska</th>\n",
              "    </tr>\n",
              "  </thead>\n",
              "  <tbody>\n",
              "    <tr>\n",
              "      <th>0</th>\n",
              "      <td>1960</td>\n",
              "      <td>10.2</td>\n",
              "      <td>1.2</td>\n",
              "    </tr>\n",
              "    <tr>\n",
              "      <th>1</th>\n",
              "      <td>1961</td>\n",
              "      <td>11.5</td>\n",
              "      <td>1.0</td>\n",
              "    </tr>\n",
              "    <tr>\n",
              "      <th>2</th>\n",
              "      <td>1962</td>\n",
              "      <td>4.5</td>\n",
              "      <td>0.9</td>\n",
              "    </tr>\n",
              "    <tr>\n",
              "      <th>3</th>\n",
              "      <td>1963</td>\n",
              "      <td>6.5</td>\n",
              "      <td>1.2</td>\n",
              "    </tr>\n",
              "    <tr>\n",
              "      <th>4</th>\n",
              "      <td>1964</td>\n",
              "      <td>10.4</td>\n",
              "      <td>1.4</td>\n",
              "    </tr>\n",
              "    <tr>\n",
              "      <th>5</th>\n",
              "      <td>1965</td>\n",
              "      <td>6.3</td>\n",
              "      <td>1.4</td>\n",
              "    </tr>\n",
              "    <tr>\n",
              "      <th>6</th>\n",
              "      <td>1966</td>\n",
              "      <td>12.9</td>\n",
              "      <td>2.2</td>\n",
              "    </tr>\n",
              "    <tr>\n",
              "      <th>7</th>\n",
              "      <td>1967</td>\n",
              "      <td>9.6</td>\n",
              "      <td>1.6</td>\n",
              "    </tr>\n",
              "    <tr>\n",
              "      <th>8</th>\n",
              "      <td>1968</td>\n",
              "      <td>10.5</td>\n",
              "      <td>2.2</td>\n",
              "    </tr>\n",
              "    <tr>\n",
              "      <th>9</th>\n",
              "      <td>1969</td>\n",
              "      <td>10.6</td>\n",
              "      <td>1.9</td>\n",
              "    </tr>\n",
              "    <tr>\n",
              "      <th>10</th>\n",
              "      <td>1970</td>\n",
              "      <td>12.2</td>\n",
              "      <td>2.0</td>\n",
              "    </tr>\n",
              "    <tr>\n",
              "      <th>11</th>\n",
              "      <td>1971</td>\n",
              "      <td>13.4</td>\n",
              "      <td>2.4</td>\n",
              "    </tr>\n",
              "    <tr>\n",
              "      <th>12</th>\n",
              "      <td>1972</td>\n",
              "      <td>9.5</td>\n",
              "      <td>2.4</td>\n",
              "    </tr>\n",
              "    <tr>\n",
              "      <th>13</th>\n",
              "      <td>1973</td>\n",
              "      <td>10.0</td>\n",
              "      <td>2.7</td>\n",
              "    </tr>\n",
              "    <tr>\n",
              "      <th>14</th>\n",
              "      <td>1974</td>\n",
              "      <td>13.6</td>\n",
              "      <td>3.0</td>\n",
              "    </tr>\n",
              "    <tr>\n",
              "      <th>15</th>\n",
              "      <td>1975</td>\n",
              "      <td>12.2</td>\n",
              "      <td>3.3</td>\n",
              "    </tr>\n",
              "    <tr>\n",
              "      <th>16</th>\n",
              "      <td>1976</td>\n",
              "      <td>11.3</td>\n",
              "      <td>2.3</td>\n",
              "    </tr>\n",
              "    <tr>\n",
              "      <th>17</th>\n",
              "      <td>1977</td>\n",
              "      <td>10.8</td>\n",
              "      <td>2.7</td>\n",
              "    </tr>\n",
              "    <tr>\n",
              "      <th>18</th>\n",
              "      <td>1978</td>\n",
              "      <td>12.9</td>\n",
              "      <td>2.0</td>\n",
              "    </tr>\n",
              "    <tr>\n",
              "      <th>19</th>\n",
              "      <td>1979</td>\n",
              "      <td>13.3</td>\n",
              "      <td>2.3</td>\n",
              "    </tr>\n",
              "    <tr>\n",
              "      <th>20</th>\n",
              "      <td>1980</td>\n",
              "      <td>8.9</td>\n",
              "      <td>2.6</td>\n",
              "    </tr>\n",
              "    <tr>\n",
              "      <th>21</th>\n",
              "      <td>1981</td>\n",
              "      <td>14.6</td>\n",
              "      <td>2.1</td>\n",
              "    </tr>\n",
              "    <tr>\n",
              "      <th>22</th>\n",
              "      <td>1982</td>\n",
              "      <td>18.5</td>\n",
              "      <td>2.3</td>\n",
              "    </tr>\n",
              "    <tr>\n",
              "      <th>23</th>\n",
              "      <td>1983</td>\n",
              "      <td>13.8</td>\n",
              "      <td>1.7</td>\n",
              "    </tr>\n",
              "    <tr>\n",
              "      <th>24</th>\n",
              "      <td>1984</td>\n",
              "      <td>11.6</td>\n",
              "      <td>1.8</td>\n",
              "    </tr>\n",
              "    <tr>\n",
              "      <th>25</th>\n",
              "      <td>1985</td>\n",
              "      <td>9.8</td>\n",
              "      <td>2.1</td>\n",
              "    </tr>\n",
              "    <tr>\n",
              "      <th>26</th>\n",
              "      <td>1986</td>\n",
              "      <td>8.6</td>\n",
              "      <td>2.5</td>\n",
              "    </tr>\n",
              "    <tr>\n",
              "      <th>27</th>\n",
              "      <td>1987</td>\n",
              "      <td>10.1</td>\n",
              "      <td>2.6</td>\n",
              "    </tr>\n",
              "    <tr>\n",
              "      <th>28</th>\n",
              "      <td>1988</td>\n",
              "      <td>5.7</td>\n",
              "      <td>2.9</td>\n",
              "    </tr>\n",
              "    <tr>\n",
              "      <th>29</th>\n",
              "      <td>1989</td>\n",
              "      <td>8.0</td>\n",
              "      <td>2.5</td>\n",
              "    </tr>\n",
              "    <tr>\n",
              "      <th>30</th>\n",
              "      <td>1990</td>\n",
              "      <td>7.5</td>\n",
              "      <td>2.7</td>\n",
              "    </tr>\n",
              "    <tr>\n",
              "      <th>31</th>\n",
              "      <td>1991</td>\n",
              "      <td>7.4</td>\n",
              "      <td>3.0</td>\n",
              "    </tr>\n",
              "    <tr>\n",
              "      <th>32</th>\n",
              "      <td>1992</td>\n",
              "      <td>7.5</td>\n",
              "      <td>3.3</td>\n",
              "    </tr>\n",
              "    <tr>\n",
              "      <th>33</th>\n",
              "      <td>1993</td>\n",
              "      <td>9.0</td>\n",
              "      <td>3.4</td>\n",
              "    </tr>\n",
              "    <tr>\n",
              "      <th>34</th>\n",
              "      <td>1994</td>\n",
              "      <td>6.3</td>\n",
              "      <td>3.2</td>\n",
              "    </tr>\n",
              "    <tr>\n",
              "      <th>35</th>\n",
              "      <td>1995</td>\n",
              "      <td>9.1</td>\n",
              "      <td>3.9</td>\n",
              "    </tr>\n",
              "    <tr>\n",
              "      <th>36</th>\n",
              "      <td>1996</td>\n",
              "      <td>7.4</td>\n",
              "      <td>3.6</td>\n",
              "    </tr>\n",
              "    <tr>\n",
              "      <th>37</th>\n",
              "      <td>1997</td>\n",
              "      <td>8.9</td>\n",
              "      <td>2.8</td>\n",
              "    </tr>\n",
              "    <tr>\n",
              "      <th>38</th>\n",
              "      <td>1998</td>\n",
              "      <td>6.7</td>\n",
              "      <td>2.6</td>\n",
              "    </tr>\n",
              "    <tr>\n",
              "      <th>39</th>\n",
              "      <td>1999</td>\n",
              "      <td>8.4</td>\n",
              "      <td>2.8</td>\n",
              "    </tr>\n",
              "    <tr>\n",
              "      <th>40</th>\n",
              "      <td>2000</td>\n",
              "      <td>4.3</td>\n",
              "      <td>3.1</td>\n",
              "    </tr>\n",
              "    <tr>\n",
              "      <th>41</th>\n",
              "      <td>2001</td>\n",
              "      <td>6.1</td>\n",
              "      <td>2.4</td>\n",
              "    </tr>\n",
              "    <tr>\n",
              "      <th>42</th>\n",
              "      <td>2002</td>\n",
              "      <td>5.1</td>\n",
              "      <td>2.2</td>\n",
              "    </tr>\n",
              "    <tr>\n",
              "      <th>43</th>\n",
              "      <td>2003</td>\n",
              "      <td>6.0</td>\n",
              "      <td>2.5</td>\n",
              "    </tr>\n",
              "  </tbody>\n",
              "</table>\n",
              "</div>\n",
              "      <button class=\"colab-df-convert\" onclick=\"convertToInteractive('df-07411258-a63e-41cb-b6e2-6d9101bbf1ba')\"\n",
              "              title=\"Convert this dataframe to an interactive table.\"\n",
              "              style=\"display:none;\">\n",
              "        \n",
              "  <svg xmlns=\"http://www.w3.org/2000/svg\" height=\"24px\"viewBox=\"0 0 24 24\"\n",
              "       width=\"24px\">\n",
              "    <path d=\"M0 0h24v24H0V0z\" fill=\"none\"/>\n",
              "    <path d=\"M18.56 5.44l.94 2.06.94-2.06 2.06-.94-2.06-.94-.94-2.06-.94 2.06-2.06.94zm-11 1L8.5 8.5l.94-2.06 2.06-.94-2.06-.94L8.5 2.5l-.94 2.06-2.06.94zm10 10l.94 2.06.94-2.06 2.06-.94-2.06-.94-.94-2.06-.94 2.06-2.06.94z\"/><path d=\"M17.41 7.96l-1.37-1.37c-.4-.4-.92-.59-1.43-.59-.52 0-1.04.2-1.43.59L10.3 9.45l-7.72 7.72c-.78.78-.78 2.05 0 2.83L4 21.41c.39.39.9.59 1.41.59.51 0 1.02-.2 1.41-.59l7.78-7.78 2.81-2.81c.8-.78.8-2.07 0-2.86zM5.41 20L4 18.59l7.72-7.72 1.47 1.35L5.41 20z\"/>\n",
              "  </svg>\n",
              "      </button>\n",
              "      \n",
              "  <style>\n",
              "    .colab-df-container {\n",
              "      display:flex;\n",
              "      flex-wrap:wrap;\n",
              "      gap: 12px;\n",
              "    }\n",
              "\n",
              "    .colab-df-convert {\n",
              "      background-color: #E8F0FE;\n",
              "      border: none;\n",
              "      border-radius: 50%;\n",
              "      cursor: pointer;\n",
              "      display: none;\n",
              "      fill: #1967D2;\n",
              "      height: 32px;\n",
              "      padding: 0 0 0 0;\n",
              "      width: 32px;\n",
              "    }\n",
              "\n",
              "    .colab-df-convert:hover {\n",
              "      background-color: #E2EBFA;\n",
              "      box-shadow: 0px 1px 2px rgba(60, 64, 67, 0.3), 0px 1px 3px 1px rgba(60, 64, 67, 0.15);\n",
              "      fill: #174EA6;\n",
              "    }\n",
              "\n",
              "    [theme=dark] .colab-df-convert {\n",
              "      background-color: #3B4455;\n",
              "      fill: #D2E3FC;\n",
              "    }\n",
              "\n",
              "    [theme=dark] .colab-df-convert:hover {\n",
              "      background-color: #434B5C;\n",
              "      box-shadow: 0px 1px 3px 1px rgba(0, 0, 0, 0.15);\n",
              "      filter: drop-shadow(0px 1px 2px rgba(0, 0, 0, 0.3));\n",
              "      fill: #FFFFFF;\n",
              "    }\n",
              "  </style>\n",
              "\n",
              "      <script>\n",
              "        const buttonEl =\n",
              "          document.querySelector('#df-07411258-a63e-41cb-b6e2-6d9101bbf1ba button.colab-df-convert');\n",
              "        buttonEl.style.display =\n",
              "          google.colab.kernel.accessAllowed ? 'block' : 'none';\n",
              "\n",
              "        async function convertToInteractive(key) {\n",
              "          const element = document.querySelector('#df-07411258-a63e-41cb-b6e2-6d9101bbf1ba');\n",
              "          const dataTable =\n",
              "            await google.colab.kernel.invokeFunction('convertToInteractive',\n",
              "                                                     [key], {});\n",
              "          if (!dataTable) return;\n",
              "\n",
              "          const docLinkHtml = 'Like what you see? Visit the ' +\n",
              "            '<a target=\"_blank\" href=https://colab.research.google.com/notebooks/data_table.ipynb>data table notebook</a>'\n",
              "            + ' to learn more about interactive tables.';\n",
              "          element.innerHTML = '';\n",
              "          dataTable['output_type'] = 'display_data';\n",
              "          await google.colab.output.renderOutput(dataTable, element);\n",
              "          const docLink = document.createElement('div');\n",
              "          docLink.innerHTML = docLinkHtml;\n",
              "          element.appendChild(docLink);\n",
              "        }\n",
              "      </script>\n",
              "    </div>\n",
              "  </div>\n",
              "  "
            ]
          },
          "metadata": {},
          "execution_count": 84
        }
      ]
    },
    {
      "cell_type": "code",
      "source": [
        "# You code here\n",
        "\n",
        "alkek = mr.where('State', 'Maine').drop('State', 'Population').relabeled(1, 'Murder rate in Maine')\n",
        "mrdr = mr.where('State', 'Missouri').drop('State', 'Population').relabeled(1, 'Murder rate in Missouri')\n",
        "# Fill in this line to make a table like the one pictured above.\n",
        "alkek_mn = alk.join(\"Year\", mrdr)\n",
        "alkek_mn"
      ],
      "metadata": {
        "id": "sI8NOgBkR4fT",
        "outputId": "5055f389-0073-4db0-cd17-4e8c0210ab21",
        "colab": {
          "base_uri": "https://localhost:8080/",
          "height": 392
        }
      },
      "execution_count": 76,
      "outputs": [
        {
          "output_type": "execute_result",
          "data": {
            "text/plain": [
              "Year | Murder rate in Maine | Murder rate in Missouri\n",
              "1960 | 1.7                  | 4.4\n",
              "1961 | 1.6                  | 5.1\n",
              "1962 | 1.4                  | 5.5\n",
              "1963 | 1.9                  | 5.2\n",
              "1964 | 1.5                  | 5.4\n",
              "1965 | 2.1                  | 6.7\n",
              "1966 | 2.2                  | 5.4\n",
              "1967 | 0.4                  | 7.3\n",
              "1968 | 3                    | 8.8\n",
              "1969 | 1.6                  | 10.4\n",
              "... (34 rows omitted)"
            ],
            "text/html": [
              "<table border=\"1\" class=\"dataframe\">\n",
              "    <thead>\n",
              "        <tr>\n",
              "            <th>Year</th> <th>Murder rate in Maine</th> <th>Murder rate in Missouri</th>\n",
              "        </tr>\n",
              "    </thead>\n",
              "    <tbody>\n",
              "        <tr>\n",
              "            <td>1960</td> <td>1.7                 </td> <td>4.4                    </td>\n",
              "        </tr>\n",
              "        <tr>\n",
              "            <td>1961</td> <td>1.6                 </td> <td>5.1                    </td>\n",
              "        </tr>\n",
              "        <tr>\n",
              "            <td>1962</td> <td>1.4                 </td> <td>5.5                    </td>\n",
              "        </tr>\n",
              "        <tr>\n",
              "            <td>1963</td> <td>1.9                 </td> <td>5.2                    </td>\n",
              "        </tr>\n",
              "        <tr>\n",
              "            <td>1964</td> <td>1.5                 </td> <td>5.4                    </td>\n",
              "        </tr>\n",
              "        <tr>\n",
              "            <td>1965</td> <td>2.1                 </td> <td>6.7                    </td>\n",
              "        </tr>\n",
              "        <tr>\n",
              "            <td>1966</td> <td>2.2                 </td> <td>5.4                    </td>\n",
              "        </tr>\n",
              "        <tr>\n",
              "            <td>1967</td> <td>0.4                 </td> <td>7.3                    </td>\n",
              "        </tr>\n",
              "        <tr>\n",
              "            <td>1968</td> <td>3                   </td> <td>8.8                    </td>\n",
              "        </tr>\n",
              "        <tr>\n",
              "            <td>1969</td> <td>1.6                 </td> <td>10.4                   </td>\n",
              "        </tr>\n",
              "    </tbody>\n",
              "</table>\n",
              "<p>... (34 rows omitted)</p>"
            ]
          },
          "metadata": {},
          "execution_count": 76
        }
      ]
    },
    {
      "cell_type": "code",
      "source": [
        "#by the below graph we can see the murder rate in selected countries\n",
        "plt.figure(figsize=(15,15))\n",
        "plt.title('Murder Rates in Maine and Missouri Throughout the Years',fontsize=20)\n",
        "plt.plot(df['Year'],df['Murder rate in Maine'],label='Maine')\n",
        "plt.plot(df['Year'],df['Murder rate in Missouri'],label='Missouri')\n",
        "plt.xlabel('Year',fontsize=18)\n",
        "plt.ylabel('Murder Rate',fontsize=18)\n",
        "plt.legend()\n",
        "plt.grid()\n",
        "plt.show()"
      ],
      "metadata": {
        "id": "4x3k-egLQFV6",
        "outputId": "90a3878e-9ab6-427d-afce-e9689372a8cc",
        "colab": {
          "base_uri": "https://localhost:8080/",
          "height": 906
        }
      },
      "execution_count": 69,
      "outputs": [
        {
          "output_type": "display_data",
          "data": {
            "text/plain": [
              "<Figure size 1080x1080 with 1 Axes>"
            ],
            "image/png": "[encoded data removed]"
          },
          "metadata": {
            "needs_background": "light"
          }
        }
      ]
    }
  ],
  "metadata": {
    "kernelspec": {
      "display_name": "Python 3",
      "language": "python",
      "name": "python3"
    },
    "language_info": {
      "codemirror_mode": {
        "name": "ipython",
        "version": 3
      },
      "file_extension": ".py",
      "mimetype": "text/x-python",
      "name": "python",
      "nbconvert_exporter": "python",
      "pygments_lexer": "ipython3",
      "version": "3.8.5"
    },
    "colab": {
      "name": "Copy of lab_assignment_09 Sushmitha_11554373(1).ipynb",
      "provenance": [],
      "include_colab_link": true
    }
  },
  "nbformat": 4,
  "nbformat_minor": 0
}
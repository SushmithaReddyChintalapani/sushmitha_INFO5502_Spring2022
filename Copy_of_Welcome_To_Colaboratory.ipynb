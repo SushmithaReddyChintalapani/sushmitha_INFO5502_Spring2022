{
  "cells": [
    {
      "cell_type": "markdown",
      "metadata": {
        "id": "view-in-github",
        "colab_type": "text"
      },
      "source": [
        "<a href=\"https://colab.research.google.com/github/SushmithaReddyChintalapani/sushmitha_INFO5502_Spring2022/blob/main/Copy_of_Welcome_To_Colaboratory.ipynb\" target=\"_parent\"><img src=\"https://colab.research.google.com/assets/colab-badge.svg\" alt=\"Open In Colab\"/></a>"
      ]
    },
    {
      "cell_type": "code",
      "source": [
        "#(1) Write a Python program to count the number of characters in a string. (5 points)\n",
        "\n",
        "#Sample String : 'google.com', \n",
        "\n",
        "#Expected Result : {'o': 3, 'g': 2, '.': 1, 'e': 1, 'l': 1, 'm': 1, 'c': 1}\n",
        "\n",
        "def count_char(str1):\n",
        "    dict = {}\n",
        "    for K in str1:\n",
        "        keys = dict.keys()\n",
        "        if K in keys:\n",
        "            dict[K] += 1\n",
        "        else:\n",
        "            dict[K] = 1\n",
        "    return dict\n",
        "print(count_char('google.com'))"
      ],
      "metadata": {
        "colab": {
          "base_uri": "https://localhost:8080/"
        },
        "id": "V8XDsklyQYt-",
        "outputId": "d6a08a1b-da1e-4365-c6c8-8d5470cae0a5"
      },
      "execution_count": null,
      "outputs": [
        {
          "output_type": "stream",
          "name": "stdout",
          "text": [
            "{'g': 2, 'o': 3, 'l': 1, 'e': 1, '.': 1, 'c': 1, 'm': 1}\n"
          ]
        }
      ]
    },
    {
      "cell_type": "code",
      "source": [
        "#(2) Write a Python program to sum all the items in a list.\n",
        "list1 = [5,3,6,1,9,7]\n",
        "sum=0;\n",
        "for elements in range(0, len(list1)):\n",
        "    sum = sum + list1[elements]\n",
        "print(\"Sum of elements in given list1: \", sum)"
      ],
      "metadata": {
        "colab": {
          "base_uri": "https://localhost:8080/"
        },
        "id": "mwTju88fQj00",
        "outputId": "7c1b46ce-cd07-46af-a816-f7d33f292977"
      },
      "execution_count": null,
      "outputs": [
        {
          "output_type": "stream",
          "name": "stdout",
          "text": [
            "Sum of elements in given list1:  31\n"
          ]
        }
      ]
    },
    {
      "cell_type": "code",
      "source": [
        "#(3) Write a Python program to get a string from a given string where all occurrences of its first char have been changed to '\\$', except the first char itself. (5 points)\n",
        "\n",
        "#Sample String : 'restart', \n",
        "\n",
        "#Expected Result : 'resta\\$t'\n",
        "\n",
        "new_str=input(\"Enter the string\")\n",
        "first_ele=new_str[0]\n",
        "empty_string=first_ele\n",
        "\n",
        "for items in range(1,len(new_str)):\n",
        "    \n",
        "    if(new_str[items]==first_ele):\n",
        "        empty_string=empty_string+\"\\$\"\n",
        "    else:\n",
        "        empty_string=empty_string+new_str[items]\n",
        "\n",
        "print(\"Final String : \"+empty_string);   "
      ],
      "metadata": {
        "colab": {
          "base_uri": "https://localhost:8080/"
        },
        "id": "EcwAwuS-QqNs",
        "outputId": "f4add5ee-3be1-48ab-ef72-56b8936e205f"
      },
      "execution_count": null,
      "outputs": [
        {
          "output_type": "stream",
          "name": "stdout",
          "text": [
            "Enter the stringrestart\n",
            "Final String : resta\\$t\n"
          ]
        }
      ]
    },
    {
      "cell_type": "code",
      "source": [
        "#(4) Write a program with python which could accept two parameter a and b to calculate and output the result of S, where \n",
        "\n",
        "#$\\ S=3.14*(1+a/b)^3$ (5 points)\n",
        "\n",
        "import math\n",
        "\n",
        "a = int(input(\"Enter first num\"))\n",
        "b=int(input(\"Enter second num\"))\n",
        "print(math.pow(9, 3))\n",
        "rem=a/b\n",
        "pow=1+math.pow(rem,3)\n",
        "S= 3.14*(pow)\n",
        "\n",
        "print(\"S value is :\",S)\n"
      ],
      "metadata": {
        "colab": {
          "base_uri": "https://localhost:8080/"
        },
        "id": "hMHwP26IQ5wK",
        "outputId": "e47aed65-22ee-4997-c73f-72abc75744ed"
      },
      "execution_count": null,
      "outputs": [
        {
          "output_type": "stream",
          "name": "stdout",
          "text": [
            "Enter first num4\n",
            "Enter second num5\n",
            "729.0\n",
            "S value is : 4.74768\n"
          ]
        }
      ]
    },
    {
      "cell_type": "code",
      "source": [
        "#(5) Write a Python program to concatenate following dictionaries to create a new one. (5 points)\n",
        "\n",
        "#Sample Dictionary : dic1={1:10, 2:20}, dic2={3:30, 4:40}, dic3={5:50,6:60}, \n",
        "\n",
        "#Expected Result : {1: 10, 2: 20, 3: 30, 4: 40, 5: 50, 6: 60}\n",
        "\n",
        "dict_x1={5:25, 7:49}\n",
        "dict_x2={9:81, 3:9}\n",
        "dict_x3={12:144,4:16}\n",
        "dict_x4 = {}\n",
        "for d in (dict_x1, dict_x2, dict_x3): dict_x4.update(d)\n",
        "print(dict_x4)"
      ],
      "metadata": {
        "colab": {
          "base_uri": "https://localhost:8080/"
        },
        "id": "2UgIZQSRRSE9",
        "outputId": "d2a72c57-a6cb-446c-bf48-7a1dd3eb0e40"
      },
      "execution_count": null,
      "outputs": [
        {
          "output_type": "stream",
          "name": "stdout",
          "text": [
            "{5: 25, 7: 49, 9: 81, 3: 9, 12: 144, 4: 16}\n"
          ]
        }
      ]
    },
    {
      "cell_type": "code",
      "source": [
        "#(6) Write a Python program to check whether an element exists within a tuple.\n",
        "\n",
        "tuple_new = (\"E\", \"L\", \"E\", \"P\", \"4\", \"H\", \"A\", \"N\", \"t\", 9, )\n",
        "print(\"L\" in tuple_new)\n",
        "print(10 in tuple_new)\n",
        "\n"
      ],
      "metadata": {
        "colab": {
          "base_uri": "https://localhost:8080/"
        },
        "id": "OxueIdWeRc1E",
        "outputId": "ce3e83e6-e178-493e-a88d-63f52d067980"
      },
      "execution_count": null,
      "outputs": [
        {
          "output_type": "stream",
          "name": "stdout",
          "text": [
            "True\n",
            "False\n"
          ]
        }
      ]
    },
    {
      "cell_type": "code",
      "source": [
        "\n",
        "#(7) Write a Python program to find maximum and the minimum value in a set\n",
        "\n",
        "new_set = {45, 10, 66, 50, 7, 202}\n",
        "print(\"total elements in a given set:\")\n",
        "print(\"\\nMax value :\")\n",
        "print(max(new_set))\n",
        "print(\"\\nMin value :\")\n",
        "print(min(new_set))\n"
      ],
      "metadata": {
        "colab": {
          "base_uri": "https://localhost:8080/"
        },
        "id": "aHRHGu9FRoCq",
        "outputId": "a9d2592e-dc16-4790-ce98-a5078f3c2a89"
      },
      "execution_count": null,
      "outputs": [
        {
          "output_type": "stream",
          "name": "stdout",
          "text": [
            "total elements in a given set:\n",
            "\n",
            "Max value :\n",
            "202\n",
            "\n",
            "Min value :\n",
            "7\n"
          ]
        }
      ]
    },
    {
      "cell_type": "code",
      "source": [
        "\n",
        "'''(#8) Write a Python program to randomly divide the students in this class into six groups for term projects, each group should have at least 4 students but no more than 6 students (including 6). Here is the students list: (5 points)\n",
        "\n",
        "#studnet_list = ['ja0964','sa1198','sb1357','vb0218','sc1229','kg0569','kg0470','sg1297','bg0320','fh0141','jl1252','sk1386',\n",
        "          # 'ak0956','sk1390','sk1458','sk1313','ak0934','vm0377','nm0618','sm1640','sm1907','gn0108','pr0353','dr0609','ms1500','aos0040','ds0814', 'av0659','nv0234','hy0232']'''\n",
        "\n",
        "\n",
        "import random\n",
        " \n",
        "def group(x, y):\n",
        "    for n in range(0, len(x), y):\n",
        "        yield x[n:n + y]\n",
        "\n",
        "group_members = ['Mery','Jack','Hyna','Winder','Nick','Rosy','Krysa','Crystil','Nasy','Winker','Sap','Wic','Hary','Noty','Planr','Eter','Rick','Hick','Soria','Simla','Bubblu','Brain','Boby','Lara','Mary','Marten','Mini', 'Mick','Rick','Honey']\n",
        "random.shuffle(group_members)\n",
        "x = list(group(group_members, 5))\n",
        "print(x)"
      ],
      "metadata": {
        "colab": {
          "base_uri": "https://localhost:8080/"
        },
        "id": "ii4CoTstR7MV",
        "outputId": "650749d0-002b-4a7d-e413-b9ab91cfd125"
      },
      "execution_count": null,
      "outputs": [
        {
          "output_type": "stream",
          "name": "stdout",
          "text": [
            "[['Rick', 'Hick', 'Rosy', 'Boby', 'Winker'], ['Nick', 'Krysa', 'Honey', 'Planr', 'Mick'], ['Noty', 'Soria', 'Lara', 'Jack', 'Mery'], ['Hyna', 'Hary', 'Marten', 'Eter', 'Simla'], ['Mary', 'Brain', 'Sap', 'Wic', 'Nasy'], ['Rick', 'Crystil', 'Mini', 'Bubblu', 'Winder']]\n"
          ]
        }
      ]
    },
    {
      "cell_type": "code",
      "source": [
        "#(9) Write a Python program to find the duplicate elements in a given array of integers. Return -1 If there are no such elements.\n",
        "\n",
        "def x_dup(numbers):\n",
        "    number_set = set()\n",
        "    no_dup = -1\n",
        "\n",
        "    for i in range(len(numbers)):\n",
        "\n",
        "        if numbers[i] in number_set:\n",
        "            return numbers[i]\n",
        "        else:\n",
        "            number_set.add(numbers[i])\n",
        "\n",
        "    return no_dup\n",
        "\n",
        "print(x_dup([4, 0, 6, 3, 2, 4, 8]))\n",
        "print(x_dup([1, 3, 9, 6, 9]))\n",
        "print(x_dup([1, 2, 4, 8, 0, 2, 5])) "
      ],
      "metadata": {
        "colab": {
          "base_uri": "https://localhost:8080/"
        },
        "id": "6x8IMlp3Sf3C",
        "outputId": "e1bf5496-77e5-4802-d1b2-0d50999a9855"
      },
      "execution_count": null,
      "outputs": [
        {
          "output_type": "stream",
          "name": "stdout",
          "text": [
            "4\n",
            "9\n",
            "2\n"
          ]
        }
      ]
    },
    {
      "cell_type": "code",
      "source": [
        "#(10) Write a Python program to select all the Sundays of a specified year. from datetime import date, timedelta\n",
        "\n",
        "from datetime import date, timedelta\n",
        "\n",
        "def all_sundays(year):\n",
        "\n",
        "       dt = date(year, 1, 1)\n",
        "       \n",
        "       dt += timedelta(days = 6 - dt.weekday())  \n",
        "       while dt.year == year:\n",
        "          yield dt\n",
        "          dt += timedelta(days = 7)\n",
        "          \n",
        "for s in all_sundays(2022):\n",
        "   print(s)"
      ],
      "metadata": {
        "colab": {
          "base_uri": "https://localhost:8080/"
        },
        "id": "1v4dM8PqUw4e",
        "outputId": "4097ade0-efbc-4bec-8d54-4e9e5286db0c"
      },
      "execution_count": null,
      "outputs": [
        {
          "output_type": "stream",
          "name": "stdout",
          "text": [
            "2022-01-02\n",
            "2022-01-09\n",
            "2022-01-16\n",
            "2022-01-23\n",
            "2022-01-30\n",
            "2022-02-06\n",
            "2022-02-13\n",
            "2022-02-20\n",
            "2022-02-27\n",
            "2022-03-06\n",
            "2022-03-13\n",
            "2022-03-20\n",
            "2022-03-27\n",
            "2022-04-03\n",
            "2022-04-10\n",
            "2022-04-17\n",
            "2022-04-24\n",
            "2022-05-01\n",
            "2022-05-08\n",
            "2022-05-15\n",
            "2022-05-22\n",
            "2022-05-29\n",
            "2022-06-05\n",
            "2022-06-12\n",
            "2022-06-19\n",
            "2022-06-26\n",
            "2022-07-03\n",
            "2022-07-10\n",
            "2022-07-17\n",
            "2022-07-24\n",
            "2022-07-31\n",
            "2022-08-07\n",
            "2022-08-14\n",
            "2022-08-21\n",
            "2022-08-28\n",
            "2022-09-04\n",
            "2022-09-11\n",
            "2022-09-18\n",
            "2022-09-25\n",
            "2022-10-02\n",
            "2022-10-09\n",
            "2022-10-16\n",
            "2022-10-23\n",
            "2022-10-30\n",
            "2022-11-06\n",
            "2022-11-13\n",
            "2022-11-20\n",
            "2022-11-27\n",
            "2022-12-04\n",
            "2022-12-11\n",
            "2022-12-18\n",
            "2022-12-25\n"
          ]
        }
      ]
    }
  ],
  "metadata": {
    "colab": {
      "collapsed_sections": [],
      "name": "Copy of Welcome To Colaboratory",
      "toc_visible": true,
      "provenance": [],
      "include_colab_link": true
    },
    "kernelspec": {
      "display_name": "Python 3",
      "name": "python3"
    }
  },
  "nbformat": 4,
  "nbformat_minor": 0
}
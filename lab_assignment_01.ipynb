{
  "cells": [
    {
      "cell_type": "markdown",
      "metadata": {
        "id": "view-in-github",
        "colab_type": "text"
      },
      "source": [
        "<a href=\"https://colab.research.google.com/github/SushmithaReddyChintalapani/sushmitha_INFO5502_Spring2022/blob/main/lab_assignment_01.ipynb\" target=\"_parent\"><img src=\"https://colab.research.google.com/assets/colab-badge.svg\" alt=\"Open In Colab\"/></a>"
      ]
    },
    {
      "cell_type": "markdown",
      "metadata": {
        "id": "DymRJbxDBCnf"
      },
      "source": [
        "# **The first Lab-assignment (01/25/2022, 50 points in total)** sushmitha\n"
      ]
    },
    {
      "cell_type": "markdown",
      "metadata": {
        "id": "jJDe71iLB616"
      },
      "source": [
        "(1) Write a Python program to count the number of characters in a string. (5 points)\n",
        "\n",
        "Sample String : 'google.com', \n",
        "\n",
        "Expected Result : {'o': 3, 'g': 2, '.': 1, 'e': 1, 'l': 1, 'm': 1, 'c': 1}"
      ]
    },
    {
      "cell_type": "code",
      "execution_count": 1,
      "metadata": {
        "id": "MtKskTzbCLaU",
        "colab": {
          "base_uri": "https://localhost:8080/"
        },
        "outputId": "16de40df-a418-4f65-a3b4-bdf4bbae341a"
      },
      "outputs": [
        {
          "output_type": "stream",
          "name": "stdout",
          "text": [
            "Enter a Sample String: google\n",
            "{'g': 2, 'e': 1, 'l': 1, 'o': 2}\n"
          ]
        }
      ],
      "source": [
        "# write your answer here\n",
        "input_str = input(\"Enter a Sample String: \")\n",
        "result = {}\n",
        "for char in set(input_str):\n",
        "  # fetching count of each char and adding it to result dictionary\n",
        "  result[char] = input_str.count(char)\n",
        "\n",
        "print(result)\n"
      ]
    },
    {
      "cell_type": "markdown",
      "metadata": {
        "id": "55W9AMdXCSpV"
      },
      "source": [
        "(2) Write a Python program to sum all the items in a list. (5 points)"
      ]
    },
    {
      "cell_type": "code",
      "execution_count": 3,
      "metadata": {
        "id": "I57NXsauCec2",
        "colab": {
          "base_uri": "https://localhost:8080/"
        },
        "outputId": "78ed7eb8-f9e4-4246-ea64-e0b60d635d70"
      },
      "outputs": [
        {
          "output_type": "stream",
          "name": "stdout",
          "text": [
            "Sum of elements in given list1:  31\n"
          ]
        }
      ],
      "source": [
        "# write your answer here\n",
        "list1 = [5,3,6,1,9,7]\n",
        "sum=0;\n",
        "for elements in range(0, len(list1)):\n",
        "    sum = sum + list1[elements]\n",
        "print(\"Sum of elements in given list1: \", sum)"
      ]
    },
    {
      "cell_type": "markdown",
      "metadata": {
        "id": "4ulBZ6yhCi9F"
      },
      "source": [
        "(3) Write a Python program to get a string from a given string where all occurrences of its first char have been changed to '\\$', except the first char itself. (5 points)\n",
        "\n",
        "Sample String : 'restart', \n",
        "\n",
        "Expected Result : 'resta\\$t'"
      ]
    },
    {
      "cell_type": "code",
      "execution_count": 4,
      "metadata": {
        "id": "Fj0XhwbBCw2o",
        "colab": {
          "base_uri": "https://localhost:8080/"
        },
        "outputId": "a57b52f9-95b3-471d-9c0a-66ee788b88e0"
      },
      "outputs": [
        {
          "output_type": "stream",
          "name": "stdout",
          "text": [
            "Enter the stringrestart\n",
            "Final String : resta$t\n"
          ]
        }
      ],
      "source": [
        "# write your answer here\n",
        "new_str=input(\"Enter the string\")\n",
        "first_ele=new_str[0]\n",
        "empty_string=first_ele\n",
        "\n",
        "for items in range(1,len(new_str)):\n",
        "    \n",
        "    if(new_str[items]==first_ele):\n",
        "        empty_string=empty_string+\"$\"\n",
        "    else:\n",
        "        empty_string=empty_string+new_str[items]\n",
        "\n",
        "print(\"Final String : \"+empty_string); "
      ]
    },
    {
      "cell_type": "markdown",
      "metadata": {
        "id": "_bIP7s1MCzue"
      },
      "source": [
        "(4) Write a program with python which could accept two parameter a and b to calculate and output the result of S, where \n",
        "\n",
        "$\\ S=3.14*(1+a/b)^3$ (5 points)\n",
        "\n"
      ]
    },
    {
      "cell_type": "code",
      "source": [
        "import math\n",
        "\n",
        "a = int(input(\"Enter first num\"))\n",
        "b=int(input(\"Enter second num\"))\n",
        "print(math.pow(9, 3))\n",
        "rem=a/b\n",
        "pow=1+math.pow(rem,3)\n",
        "S= 3.14*(pow)\n",
        "\n",
        "print(\"S value is :\",S)\n"
      ],
      "metadata": {
        "id": "2-uTqN-Fj7p5",
        "outputId": "8fa84717-99cf-44ae-fc39-813c4725c9a4",
        "colab": {
          "base_uri": "https://localhost:8080/"
        }
      },
      "execution_count": 7,
      "outputs": [
        {
          "output_type": "stream",
          "name": "stdout",
          "text": [
            "Enter first num4\n",
            "Enter second num2\n",
            "729.0\n",
            "S value is : 28.26\n"
          ]
        }
      ]
    },
    {
      "cell_type": "markdown",
      "metadata": {
        "id": "xCa2bK9aD4Q3"
      },
      "source": [
        "(5) Write a Python program to concatenate following dictionaries to create a new one. (5 points)\n",
        "\n",
        "Sample Dictionary : dic1={1:10, 2:20}, dic2={3:30, 4:40}, dic3={5:50,6:60}, \n",
        "\n",
        "Expected Result : {1: 10, 2: 20, 3: 30, 4: 40, 5: 50, 6: 60}\n"
      ]
    },
    {
      "cell_type": "code",
      "execution_count": 8,
      "metadata": {
        "id": "_z4aLqAbEET1",
        "colab": {
          "base_uri": "https://localhost:8080/"
        },
        "outputId": "f3bbcc27-f676-41b9-b6fc-e39c51a665f2"
      },
      "outputs": [
        {
          "output_type": "stream",
          "name": "stdout",
          "text": [
            "{5: 25, 7: 49, 9: 81, 3: 9, 12: 144, 4: 16}\n"
          ]
        }
      ],
      "source": [
        "# write your answer here\n",
        "\n",
        "dict_x1={5:25, 7:49}\n",
        "dict_x2={9:81, 3:9}\n",
        "dict_x3={12:144,4:16}\n",
        "dict_x4 = {}\n",
        "for d in (dict_x1, dict_x2, dict_x3): dict_x4.update(d)\n",
        "print(dict_x4)"
      ]
    },
    {
      "cell_type": "markdown",
      "metadata": {
        "id": "0v48Vqa7FrQh"
      },
      "source": [
        "(6) Write a Python program to check whether an element exists within a tuple. (5 points)"
      ]
    },
    {
      "cell_type": "code",
      "execution_count": 9,
      "metadata": {
        "id": "7WEmgq-DF2P1",
        "colab": {
          "base_uri": "https://localhost:8080/"
        },
        "outputId": "0130eb34-3496-4f60-8c48-568f39a95e16"
      },
      "outputs": [
        {
          "output_type": "stream",
          "name": "stdout",
          "text": [
            "True\n",
            "False\n"
          ]
        }
      ],
      "source": [
        "# write your answer here\n",
        "tuple_new = (\"E\", \"L\", \"E\", \"P\", \"4\", \"H\", \"A\", \"N\", \"t\", 9, )\n",
        "print(\"L\" in tuple_new)\n",
        "print(10 in tuple_new)"
      ]
    },
    {
      "cell_type": "markdown",
      "metadata": {
        "id": "vD5PYLMuGga_"
      },
      "source": [
        "(7) Write a Python program to find maximum and the minimum value in a set. (5 points)"
      ]
    },
    {
      "cell_type": "code",
      "execution_count": 10,
      "metadata": {
        "id": "t0D5kdJUGjjw",
        "colab": {
          "base_uri": "https://localhost:8080/"
        },
        "outputId": "f9f84f70-3b13-4052-880b-593b095c0fa4"
      },
      "outputs": [
        {
          "output_type": "stream",
          "name": "stdout",
          "text": [
            "total elements in a given set:\n",
            "\n",
            "Max value :\n",
            "202\n",
            "\n",
            "Min value :\n",
            "7\n"
          ]
        }
      ],
      "source": [
        "# write your answer here\n",
        "new_set = {45, 10, 66, 50, 7, 202}\n",
        "print(\"total elements in a given set:\")\n",
        "print(\"\\nMax value :\")\n",
        "print(max(new_set))\n",
        "print(\"\\nMin value :\")\n",
        "print(min(new_set))"
      ]
    },
    {
      "cell_type": "markdown",
      "metadata": {
        "id": "uHkd-y5VhVWC"
      },
      "source": [
        "(8) Write a Python program to randomly divide the students in this class into six groups for term projects, each group should have at least 4 students but no more than 6 students (including 6). Here is the students list: (5 points)\n",
        "\n",
        "studnet_list = ['ja0964','sa1198','sb1357','vb0218','sc1229','kg0569','kg0470','sg1297','bg0320','fh0141','jl1252','sk1386',\n",
        "           'ak0956','sk1390','sk1458','sk1313','ak0934','vm0377','nm0618','sm1640','sm1907','gn0108','pr0353','dr0609','ms1500','aos0040','ds0814', 'av0659','nv0234','hy0232']"
      ]
    },
    {
      "cell_type": "code",
      "execution_count": 11,
      "metadata": {
        "id": "3iGbmcOBhTwy",
        "colab": {
          "base_uri": "https://localhost:8080/"
        },
        "outputId": "1ddec88d-981b-4787-8070-756ee89872c6"
      },
      "outputs": [
        {
          "output_type": "stream",
          "name": "stdout",
          "text": [
            "[['Rick', 'Nasy', 'Brain', 'Hary', 'Noty'], ['Winker', 'Bubblu', 'Jack', 'Boby', 'Marten'], ['Eter', 'Nick', 'Mini', 'Rick', 'Rosy'], ['Winder', 'Mery', 'Planr', 'Crystil', 'Sap'], ['Simla', 'Hyna', 'Wic', 'Mick', 'Honey'], ['Mary', 'Krysa', 'Lara', 'Soria', 'Hick']]\n"
          ]
        }
      ],
      "source": [
        "# write your answer here\n",
        "import random\n",
        " \n",
        "def group(x, y):\n",
        "    for n in range(0, len(x), y):\n",
        "        yield x[n:n + y]\n",
        "\n",
        "group_members = ['Mery','Jack','Hyna','Winder','Nick','Rosy','Krysa','Crystil','Nasy','Winker','Sap','Wic','Hary','Noty','Planr','Eter','Rick','Hick','Soria','Simla','Bubblu','Brain','Boby','Lara','Mary','Marten','Mini', 'Mick','Rick','Honey']\n",
        "random.shuffle(group_members)\n",
        "x = list(group(group_members, 5))\n",
        "print(x)"
      ]
    },
    {
      "cell_type": "markdown",
      "metadata": {
        "id": "kzhvTbPTRfkV"
      },
      "source": [
        "(9) Write a Python program to find the duplicate elements in a given array of integers. Return -1 If there are no such elements. (5 points)"
      ]
    },
    {
      "cell_type": "code",
      "execution_count": 15,
      "metadata": {
        "id": "bRSzxHPIRfkW",
        "colab": {
          "base_uri": "https://localhost:8080/"
        },
        "outputId": "554bfc53-fcf2-42e4-e790-da6b9e30b4c9"
      },
      "outputs": [
        {
          "output_type": "stream",
          "name": "stdout",
          "text": [
            "2, 3, 4, 5, "
          ]
        }
      ],
      "source": [
        "from numpy.core.defchararray import endswith\n",
        "\n",
        "import numpy as np\n",
        "arrays = np.array([2, 3, 4, 5, 3, 4, 5, 3, 5, 4, 7, 8, 3, 6, 2])\n",
        "flag = 0\n",
        "\n",
        "for number in set(arrays):\n",
        "  # get the count of occurences that are greater than 1.\n",
        "  if np.count_nonzero(arrays == number) > 1:\n",
        "    flag = 1\n",
        "    print(number, end = ', ')\n",
        "\n",
        "# if there are no duplicate elements, tehn we print '-1'.\n",
        "if flag == 0:\n",
        "  print(\"-1\")"
      ]
    },
    {
      "cell_type": "markdown",
      "metadata": {
        "id": "Hv07JbiSRfkX"
      },
      "source": [
        "(10) Write a Python program to select all the Sundays of a specified year. (5 extra points)"
      ]
    },
    {
      "cell_type": "code",
      "execution_count": 16,
      "metadata": {
        "id": "XzXzaOkCRfkX",
        "colab": {
          "base_uri": "https://localhost:8080/"
        },
        "outputId": "a8d435cd-bc3e-4913-8ca8-6edbaa1e4f2e"
      },
      "outputs": [
        {
          "output_type": "stream",
          "name": "stdout",
          "text": [
            "2022-01-02\n",
            "2022-01-09\n",
            "2022-01-16\n",
            "2022-01-23\n",
            "2022-01-30\n",
            "2022-02-06\n",
            "2022-02-13\n",
            "2022-02-20\n",
            "2022-02-27\n",
            "2022-03-06\n",
            "2022-03-13\n",
            "2022-03-20\n",
            "2022-03-27\n",
            "2022-04-03\n",
            "2022-04-10\n",
            "2022-04-17\n",
            "2022-04-24\n",
            "2022-05-01\n",
            "2022-05-08\n",
            "2022-05-15\n",
            "2022-05-22\n",
            "2022-05-29\n",
            "2022-06-05\n",
            "2022-06-12\n",
            "2022-06-19\n",
            "2022-06-26\n",
            "2022-07-03\n",
            "2022-07-10\n",
            "2022-07-17\n",
            "2022-07-24\n",
            "2022-07-31\n",
            "2022-08-07\n",
            "2022-08-14\n",
            "2022-08-21\n",
            "2022-08-28\n",
            "2022-09-04\n",
            "2022-09-11\n",
            "2022-09-18\n",
            "2022-09-25\n",
            "2022-10-02\n",
            "2022-10-09\n",
            "2022-10-16\n",
            "2022-10-23\n",
            "2022-10-30\n",
            "2022-11-06\n",
            "2022-11-13\n",
            "2022-11-20\n",
            "2022-11-27\n",
            "2022-12-04\n",
            "2022-12-11\n",
            "2022-12-18\n",
            "2022-12-25\n"
          ]
        }
      ],
      "source": [
        "# write your answer here\n",
        "from datetime import date, timedelta\n",
        "\n",
        "def all_sundays(year):\n",
        "\n",
        "       dt = date(year, 1, 1)\n",
        "       \n",
        "       dt += timedelta(days = 6 - dt.weekday())  \n",
        "       while dt.year == year:\n",
        "          yield dt\n",
        "          dt += timedelta(days = 7)\n",
        "          \n",
        "for s in all_sundays(2022):\n",
        "   print(s)"
      ]
    },
    {
      "cell_type": "code",
      "source": [
        ""
      ],
      "metadata": {
        "id": "utOUrLOQfMOE"
      },
      "execution_count": null,
      "outputs": []
    }
  ],
  "metadata": {
    "colab": {
      "collapsed_sections": [],
      "name": "lab_assignment_01.ipynb",
      "provenance": [],
      "include_colab_link": true
    },
    "kernelspec": {
      "display_name": "Python 3",
      "language": "python",
      "name": "python3"
    },
    "language_info": {
      "codemirror_mode": {
        "name": "ipython",
        "version": 3
      },
      "file_extension": ".py",
      "mimetype": "text/x-python",
      "name": "python",
      "nbconvert_exporter": "python",
      "pygments_lexer": "ipython3",
      "version": "3.8.5"
    }
  },
  "nbformat": 4,
  "nbformat_minor": 0
}